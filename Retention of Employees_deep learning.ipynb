{
 "cells": [
  {
   "cell_type": "code",
   "execution_count": 3,
   "metadata": {},
   "outputs": [],
   "source": [
    "import pandas as pd\n",
    "import numpy as np\n",
    "df = pd.read_csv('https://github.com/Anudeep2315/Employee-Retention-Model---Deep-Leanring/blob/master/HR_comma_sep.csv', sep=',')"
   ]
  },
  {
   "cell_type": "code",
   "execution_count": 4,
   "metadata": {
    "scrolled": true
   },
   "outputs": [
    {
     "data": {
      "text/html": [
       "<div>\n",
       "<style scoped>\n",
       "    .dataframe tbody tr th:only-of-type {\n",
       "        vertical-align: middle;\n",
       "    }\n",
       "\n",
       "    .dataframe tbody tr th {\n",
       "        vertical-align: top;\n",
       "    }\n",
       "\n",
       "    .dataframe thead th {\n",
       "        text-align: right;\n",
       "    }\n",
       "</style>\n",
       "<table border=\"1\" class=\"dataframe\">\n",
       "  <thead>\n",
       "    <tr style=\"text-align: right;\">\n",
       "      <th></th>\n",
       "      <th>satisfaction_level</th>\n",
       "      <th>last_evaluation</th>\n",
       "      <th>number_project</th>\n",
       "      <th>average_montly_hours</th>\n",
       "      <th>time_spend_company</th>\n",
       "      <th>Work_accident</th>\n",
       "      <th>left</th>\n",
       "      <th>promotion_last_5years</th>\n",
       "      <th>department</th>\n",
       "      <th>salary</th>\n",
       "    </tr>\n",
       "  </thead>\n",
       "  <tbody>\n",
       "    <tr>\n",
       "      <th>0</th>\n",
       "      <td>0.38</td>\n",
       "      <td>0.53</td>\n",
       "      <td>2</td>\n",
       "      <td>157</td>\n",
       "      <td>3</td>\n",
       "      <td>0</td>\n",
       "      <td>1</td>\n",
       "      <td>0</td>\n",
       "      <td>sales</td>\n",
       "      <td>low</td>\n",
       "    </tr>\n",
       "    <tr>\n",
       "      <th>1</th>\n",
       "      <td>0.80</td>\n",
       "      <td>0.86</td>\n",
       "      <td>5</td>\n",
       "      <td>262</td>\n",
       "      <td>6</td>\n",
       "      <td>0</td>\n",
       "      <td>1</td>\n",
       "      <td>0</td>\n",
       "      <td>sales</td>\n",
       "      <td>medium</td>\n",
       "    </tr>\n",
       "    <tr>\n",
       "      <th>2</th>\n",
       "      <td>0.11</td>\n",
       "      <td>0.88</td>\n",
       "      <td>7</td>\n",
       "      <td>272</td>\n",
       "      <td>4</td>\n",
       "      <td>0</td>\n",
       "      <td>1</td>\n",
       "      <td>0</td>\n",
       "      <td>sales</td>\n",
       "      <td>medium</td>\n",
       "    </tr>\n",
       "    <tr>\n",
       "      <th>3</th>\n",
       "      <td>0.72</td>\n",
       "      <td>0.87</td>\n",
       "      <td>5</td>\n",
       "      <td>223</td>\n",
       "      <td>5</td>\n",
       "      <td>0</td>\n",
       "      <td>1</td>\n",
       "      <td>0</td>\n",
       "      <td>sales</td>\n",
       "      <td>low</td>\n",
       "    </tr>\n",
       "    <tr>\n",
       "      <th>4</th>\n",
       "      <td>0.37</td>\n",
       "      <td>0.52</td>\n",
       "      <td>2</td>\n",
       "      <td>159</td>\n",
       "      <td>3</td>\n",
       "      <td>0</td>\n",
       "      <td>1</td>\n",
       "      <td>0</td>\n",
       "      <td>sales</td>\n",
       "      <td>low</td>\n",
       "    </tr>\n",
       "  </tbody>\n",
       "</table>\n",
       "</div>"
      ],
      "text/plain": [
       "   satisfaction_level  last_evaluation  number_project  average_montly_hours  \\\n",
       "0                0.38             0.53               2                   157   \n",
       "1                0.80             0.86               5                   262   \n",
       "2                0.11             0.88               7                   272   \n",
       "3                0.72             0.87               5                   223   \n",
       "4                0.37             0.52               2                   159   \n",
       "\n",
       "   time_spend_company  Work_accident  left  promotion_last_5years department  \\\n",
       "0                   3              0     1                      0      sales   \n",
       "1                   6              0     1                      0      sales   \n",
       "2                   4              0     1                      0      sales   \n",
       "3                   5              0     1                      0      sales   \n",
       "4                   3              0     1                      0      sales   \n",
       "\n",
       "   salary  \n",
       "0     low  \n",
       "1  medium  \n",
       "2  medium  \n",
       "3     low  \n",
       "4     low  "
      ]
     },
     "execution_count": 4,
     "metadata": {},
     "output_type": "execute_result"
    }
   ],
   "source": [
    "df. head()"
   ]
  },
  {
   "cell_type": "code",
   "execution_count": 5,
   "metadata": {},
   "outputs": [
    {
     "data": {
      "text/plain": [
       "satisfaction_level       0\n",
       "last_evaluation          0\n",
       "number_project           0\n",
       "average_montly_hours     0\n",
       "time_spend_company       0\n",
       "Work_accident            0\n",
       "left                     0\n",
       "promotion_last_5years    0\n",
       "department               0\n",
       "salary                   0\n",
       "dtype: int64"
      ]
     },
     "execution_count": 5,
     "metadata": {},
     "output_type": "execute_result"
    }
   ],
   "source": [
    "df.isnull().sum()"
   ]
  },
  {
   "cell_type": "code",
   "execution_count": 6,
   "metadata": {},
   "outputs": [
    {
     "data": {
      "text/plain": [
       "satisfaction_level       float64\n",
       "last_evaluation          float64\n",
       "number_project             int64\n",
       "average_montly_hours       int64\n",
       "time_spend_company         int64\n",
       "Work_accident              int64\n",
       "left                       int64\n",
       "promotion_last_5years      int64\n",
       "department                object\n",
       "salary                    object\n",
       "dtype: object"
      ]
     },
     "execution_count": 6,
     "metadata": {},
     "output_type": "execute_result"
    }
   ],
   "source": [
    "df.dtypes"
   ]
  },
  {
   "cell_type": "markdown",
   "metadata": {},
   "source": [
    "We need to convert the convert the categorial data in to numeric data before feeding in to Keras"
   ]
  },
  {
   "cell_type": "code",
   "execution_count": 7,
   "metadata": {},
   "outputs": [
    {
     "data": {
      "text/html": [
       "<div>\n",
       "<style scoped>\n",
       "    .dataframe tbody tr th:only-of-type {\n",
       "        vertical-align: middle;\n",
       "    }\n",
       "\n",
       "    .dataframe tbody tr th {\n",
       "        vertical-align: top;\n",
       "    }\n",
       "\n",
       "    .dataframe thead th {\n",
       "        text-align: right;\n",
       "    }\n",
       "</style>\n",
       "<table border=\"1\" class=\"dataframe\">\n",
       "  <thead>\n",
       "    <tr style=\"text-align: right;\">\n",
       "      <th></th>\n",
       "      <th>satisfaction_level</th>\n",
       "      <th>last_evaluation</th>\n",
       "      <th>number_project</th>\n",
       "      <th>average_montly_hours</th>\n",
       "      <th>time_spend_company</th>\n",
       "      <th>Work_accident</th>\n",
       "      <th>left</th>\n",
       "      <th>promotion_last_5years</th>\n",
       "      <th>department_RandD</th>\n",
       "      <th>department_accounting</th>\n",
       "      <th>department_hr</th>\n",
       "      <th>department_management</th>\n",
       "      <th>department_marketing</th>\n",
       "      <th>department_product_mng</th>\n",
       "      <th>department_sales</th>\n",
       "      <th>department_support</th>\n",
       "      <th>department_technical</th>\n",
       "      <th>salary_low</th>\n",
       "      <th>salary_medium</th>\n",
       "    </tr>\n",
       "  </thead>\n",
       "  <tbody>\n",
       "    <tr>\n",
       "      <th>0</th>\n",
       "      <td>0.38</td>\n",
       "      <td>0.53</td>\n",
       "      <td>2</td>\n",
       "      <td>157</td>\n",
       "      <td>3</td>\n",
       "      <td>0</td>\n",
       "      <td>1</td>\n",
       "      <td>0</td>\n",
       "      <td>0</td>\n",
       "      <td>0</td>\n",
       "      <td>0</td>\n",
       "      <td>0</td>\n",
       "      <td>0</td>\n",
       "      <td>0</td>\n",
       "      <td>1</td>\n",
       "      <td>0</td>\n",
       "      <td>0</td>\n",
       "      <td>1</td>\n",
       "      <td>0</td>\n",
       "    </tr>\n",
       "    <tr>\n",
       "      <th>1</th>\n",
       "      <td>0.80</td>\n",
       "      <td>0.86</td>\n",
       "      <td>5</td>\n",
       "      <td>262</td>\n",
       "      <td>6</td>\n",
       "      <td>0</td>\n",
       "      <td>1</td>\n",
       "      <td>0</td>\n",
       "      <td>0</td>\n",
       "      <td>0</td>\n",
       "      <td>0</td>\n",
       "      <td>0</td>\n",
       "      <td>0</td>\n",
       "      <td>0</td>\n",
       "      <td>1</td>\n",
       "      <td>0</td>\n",
       "      <td>0</td>\n",
       "      <td>0</td>\n",
       "      <td>1</td>\n",
       "    </tr>\n",
       "    <tr>\n",
       "      <th>2</th>\n",
       "      <td>0.11</td>\n",
       "      <td>0.88</td>\n",
       "      <td>7</td>\n",
       "      <td>272</td>\n",
       "      <td>4</td>\n",
       "      <td>0</td>\n",
       "      <td>1</td>\n",
       "      <td>0</td>\n",
       "      <td>0</td>\n",
       "      <td>0</td>\n",
       "      <td>0</td>\n",
       "      <td>0</td>\n",
       "      <td>0</td>\n",
       "      <td>0</td>\n",
       "      <td>1</td>\n",
       "      <td>0</td>\n",
       "      <td>0</td>\n",
       "      <td>0</td>\n",
       "      <td>1</td>\n",
       "    </tr>\n",
       "    <tr>\n",
       "      <th>3</th>\n",
       "      <td>0.72</td>\n",
       "      <td>0.87</td>\n",
       "      <td>5</td>\n",
       "      <td>223</td>\n",
       "      <td>5</td>\n",
       "      <td>0</td>\n",
       "      <td>1</td>\n",
       "      <td>0</td>\n",
       "      <td>0</td>\n",
       "      <td>0</td>\n",
       "      <td>0</td>\n",
       "      <td>0</td>\n",
       "      <td>0</td>\n",
       "      <td>0</td>\n",
       "      <td>1</td>\n",
       "      <td>0</td>\n",
       "      <td>0</td>\n",
       "      <td>1</td>\n",
       "      <td>0</td>\n",
       "    </tr>\n",
       "    <tr>\n",
       "      <th>4</th>\n",
       "      <td>0.37</td>\n",
       "      <td>0.52</td>\n",
       "      <td>2</td>\n",
       "      <td>159</td>\n",
       "      <td>3</td>\n",
       "      <td>0</td>\n",
       "      <td>1</td>\n",
       "      <td>0</td>\n",
       "      <td>0</td>\n",
       "      <td>0</td>\n",
       "      <td>0</td>\n",
       "      <td>0</td>\n",
       "      <td>0</td>\n",
       "      <td>0</td>\n",
       "      <td>1</td>\n",
       "      <td>0</td>\n",
       "      <td>0</td>\n",
       "      <td>1</td>\n",
       "      <td>0</td>\n",
       "    </tr>\n",
       "  </tbody>\n",
       "</table>\n",
       "</div>"
      ],
      "text/plain": [
       "   satisfaction_level  last_evaluation  number_project  average_montly_hours  \\\n",
       "0                0.38             0.53               2                   157   \n",
       "1                0.80             0.86               5                   262   \n",
       "2                0.11             0.88               7                   272   \n",
       "3                0.72             0.87               5                   223   \n",
       "4                0.37             0.52               2                   159   \n",
       "\n",
       "   time_spend_company  Work_accident  left  promotion_last_5years  \\\n",
       "0                   3              0     1                      0   \n",
       "1                   6              0     1                      0   \n",
       "2                   4              0     1                      0   \n",
       "3                   5              0     1                      0   \n",
       "4                   3              0     1                      0   \n",
       "\n",
       "   department_RandD  department_accounting  department_hr  \\\n",
       "0                 0                      0              0   \n",
       "1                 0                      0              0   \n",
       "2                 0                      0              0   \n",
       "3                 0                      0              0   \n",
       "4                 0                      0              0   \n",
       "\n",
       "   department_management  department_marketing  department_product_mng  \\\n",
       "0                      0                     0                       0   \n",
       "1                      0                     0                       0   \n",
       "2                      0                     0                       0   \n",
       "3                      0                     0                       0   \n",
       "4                      0                     0                       0   \n",
       "\n",
       "   department_sales  department_support  department_technical  salary_low  \\\n",
       "0                 1                   0                     0           1   \n",
       "1                 1                   0                     0           0   \n",
       "2                 1                   0                     0           0   \n",
       "3                 1                   0                     0           1   \n",
       "4                 1                   0                     0           1   \n",
       "\n",
       "   salary_medium  \n",
       "0              0  \n",
       "1              1  \n",
       "2              1  \n",
       "3              0  \n",
       "4              0  "
      ]
     },
     "execution_count": 7,
     "metadata": {},
     "output_type": "execute_result"
    }
   ],
   "source": [
    "dummies = ['department','salary']\n",
    "data = pd.get_dummies(df, columns = dummies, drop_first = True )\n",
    "data.head()"
   ]
  },
  {
   "cell_type": "markdown",
   "metadata": {},
   "source": [
    "X_train = Train data should not include the Criterion variable, we will take the values of criterion variable in to a y_train for comparing the results"
   ]
  },
  {
   "cell_type": "code",
   "execution_count": 8,
   "metadata": {},
   "outputs": [
    {
     "name": "stdout",
     "output_type": "stream",
     "text": [
      "Employee details :  [  0.38   0.53   2.   157.     3.     0.     0.     0.     0.     0.\n",
      "   0.     0.     0.     1.     0.     0.     1.     0.  ]\n",
      "Employee left the company :  1\n"
     ]
    }
   ],
   "source": [
    "x = data.drop(['left'], axis=1).values\n",
    "y = data['left'].values\n",
    "print(\"Employee details : \", x[0])\n",
    "print(\"Employee left the company : \",y[0])"
   ]
  },
  {
   "cell_type": "markdown",
   "metadata": {},
   "source": [
    "#### We are going to split the data between train and split."
   ]
  },
  {
   "cell_type": "code",
   "execution_count": 9,
   "metadata": {},
   "outputs": [],
   "source": [
    "from sklearn.model_selection import train_test_split"
   ]
  },
  {
   "cell_type": "code",
   "execution_count": 10,
   "metadata": {},
   "outputs": [],
   "source": [
    "X_train, X_test, y_train, y_test = train_test_split(x,y,test_size = 0.2)"
   ]
  },
  {
   "cell_type": "code",
   "execution_count": 11,
   "metadata": {},
   "outputs": [],
   "source": [
    "from sklearn.preprocessing import StandardScaler "
   ]
  },
  {
   "cell_type": "code",
   "execution_count": 12,
   "metadata": {},
   "outputs": [],
   "source": [
    "s = StandardScaler()\n",
    "X_train = s.fit_transform(X_train)\n",
    "X_test = s.fit_transform(X_test)"
   ]
  },
  {
   "cell_type": "markdown",
   "metadata": {},
   "source": [
    "#### Let's Build a ANN model using keras"
   ]
  },
  {
   "cell_type": "code",
   "execution_count": 13,
   "metadata": {},
   "outputs": [
    {
     "name": "stderr",
     "output_type": "stream",
     "text": [
      "Using TensorFlow backend.\n"
     ]
    }
   ],
   "source": [
    "import keras\n",
    "from keras.models import Sequential\n",
    "from keras.layers import Dense"
   ]
  },
  {
   "cell_type": "code",
   "execution_count": 14,
   "metadata": {},
   "outputs": [
    {
     "name": "stdout",
     "output_type": "stream",
     "text": [
      "WARNING:tensorflow:From C:\\Users\\Anudeep\\Anaconda3\\lib\\site-packages\\tensorflow\\python\\framework\\op_def_library.py:263: colocate_with (from tensorflow.python.framework.ops) is deprecated and will be removed in a future version.\n",
      "Instructions for updating:\n",
      "Colocations handled automatically by placer.\n"
     ]
    }
   ],
   "source": [
    "model = Sequential()\n",
    "model.add(Dense(9,kernel_initializer = 'uniform', activation= 'relu', input_dim=18))\n",
    "model.add(Dense(1, kernel_initializer = 'uniform', activation = 'sigmoid'))\n",
    "model.compile(optimizer = 'adam', loss = 'binary_crossentropy', metrics=['accuracy'])"
   ]
  },
  {
   "cell_type": "code",
   "execution_count": 15,
   "metadata": {},
   "outputs": [
    {
     "name": "stdout",
     "output_type": "stream",
     "text": [
      "WARNING:tensorflow:From C:\\Users\\Anudeep\\Anaconda3\\lib\\site-packages\\tensorflow\\python\\ops\\math_ops.py:3066: to_int32 (from tensorflow.python.ops.math_ops) is deprecated and will be removed in a future version.\n",
      "Instructions for updating:\n",
      "Use tf.cast instead.\n",
      "Epoch 1/10\n",
      "11999/11999 [==============================] - 1s 119us/step - loss: 0.4408 - acc: 0.8221\n",
      "Epoch 2/10\n",
      "11999/11999 [==============================] - 1s 82us/step - loss: 0.2433 - acc: 0.9192\n",
      "Epoch 3/10\n",
      "11999/11999 [==============================] - 1s 79us/step - loss: 0.1910 - acc: 0.9438\n",
      "Epoch 4/10\n",
      "11999/11999 [==============================] - 1s 95us/step - loss: 0.1731 - acc: 0.9492\n",
      "Epoch 5/10\n",
      "11999/11999 [==============================] - 1s 115us/step - loss: 0.1668 - acc: 0.9493\n",
      "Epoch 6/10\n",
      "11999/11999 [==============================] - 1s 119us/step - loss: 0.1635 - acc: 0.9516\n",
      "Epoch 7/10\n",
      "11999/11999 [==============================] - 1s 113us/step - loss: 0.1619 - acc: 0.9510\n",
      "Epoch 8/10\n",
      "11999/11999 [==============================] - 1s 113us/step - loss: 0.1608 - acc: 0.9523\n",
      "Epoch 9/10\n",
      "11999/11999 [==============================] - 1s 113us/step - loss: 0.1596 - acc: 0.9517\n",
      "Epoch 10/10\n",
      "11999/11999 [==============================] - 1s 116us/step - loss: 0.1584 - acc: 0.9534\n"
     ]
    },
    {
     "data": {
      "text/plain": [
       "<keras.callbacks.History at 0x20142f8e7f0>"
      ]
     },
     "execution_count": 15,
     "metadata": {},
     "output_type": "execute_result"
    }
   ],
   "source": [
    "model.fit(X_train, y_train, epochs = 10, batch_size= 15) "
   ]
  },
  {
   "cell_type": "markdown",
   "metadata": {},
   "source": [
    "#### we have model accuracy of 95% which is great.<br>\n",
    "Let's use the predict() method to use the model on X_test data"
   ]
  },
  {
   "cell_type": "code",
   "execution_count": 16,
   "metadata": {},
   "outputs": [],
   "source": [
    "predicted_results = model.predict(X_test)"
   ]
  },
  {
   "cell_type": "markdown",
   "metadata": {},
   "source": [
    "The Below predicted results of probablity of employee leaving the organisations based on each employee details"
   ]
  },
  {
   "cell_type": "code",
   "execution_count": 17,
   "metadata": {},
   "outputs": [],
   "source": [
    "predicted_results\n",
    "predicted_results = predicted_results>0.5 # returns TRUE if more than 0.5 else FALSE and makes it compatible for confusion matrix computation"
   ]
  },
  {
   "cell_type": "code",
   "execution_count": 18,
   "metadata": {},
   "outputs": [
    {
     "name": "stdout",
     "output_type": "stream",
     "text": [
      "[[False]\n",
      " [False]\n",
      " [False]\n",
      " [False]\n",
      " [ True]]\n",
      "[0 0 0 0 1]\n"
     ]
    }
   ],
   "source": [
    "print(predicted_results[0:5])\n",
    "print(y_test[0:5])"
   ]
  },
  {
   "cell_type": "markdown",
   "metadata": {},
   "source": [
    "### Confusion Matrix of out prediction results"
   ]
  },
  {
   "cell_type": "code",
   "execution_count": 19,
   "metadata": {},
   "outputs": [
    {
     "data": {
      "text/plain": [
       "array([[2210,   81],\n",
       "       [  70,  639]], dtype=int64)"
      ]
     },
     "execution_count": 19,
     "metadata": {},
     "output_type": "execute_result"
    }
   ],
   "source": [
    "from sklearn.metrics import confusion_matrix\n",
    "con_matrix = confusion_matrix(y_test,predicted_results)\n",
    "con_matrix"
   ]
  },
  {
   "cell_type": "markdown",
   "metadata": {},
   "source": [
    "### Let's see if we can improve the model accuracy even more by implementing K-Fold Cross Validation."
   ]
  },
  {
   "cell_type": "markdown",
   "metadata": {},
   "source": [
    "keras enables you to implement K-fold cross-validation via the KerasClassifier wrapper. This wrapper is from scikit-learn cross-validation. You'll start by importing the cross_val_score cross-validation function and the KerasClassifier"
   ]
  },
  {
   "cell_type": "code",
   "execution_count": 20,
   "metadata": {},
   "outputs": [],
   "source": [
    "from keras.wrappers.scikit_learn import KerasClassifier\n",
    "from sklearn.model_selection import cross_val_score"
   ]
  },
  {
   "cell_type": "markdown",
   "metadata": {},
   "source": [
    "We will create a function ( that includes ANN model ) which will be passed as an argument to KerasClassifier"
   ]
  },
  {
   "cell_type": "code",
   "execution_count": 21,
   "metadata": {},
   "outputs": [],
   "source": [
    "def make_classifier():\n",
    "    model = Sequential()\n",
    "    model.add(Dense(9,kernel_initializer = 'uniform', activation= 'relu', input_dim=18))\n",
    "    model.add(Dense(1, kernel_initializer = 'uniform', activation = 'sigmoid'))\n",
    "    model.compile(optimizer = 'adam', loss = 'binary_crossentropy', metrics=['accuracy'])\n",
    "    return model"
   ]
  },
  {
   "cell_type": "code",
   "execution_count": 22,
   "metadata": {},
   "outputs": [],
   "source": [
    "model = KerasClassifier(build_fn = make_classifier, batch_size = 10, epochs =3)"
   ]
  },
  {
   "cell_type": "markdown",
   "metadata": {},
   "source": [
    "We will use cross_val_score from sklearn to get the accuracies of each fold (12 folds )"
   ]
  },
  {
   "cell_type": "code",
   "execution_count": 23,
   "metadata": {},
   "outputs": [],
   "source": [
    "accuracies = cross_val_score(estimator = model, X = X_train, y = y_train, cv = 12, n_jobs = -1)"
   ]
  },
  {
   "cell_type": "code",
   "execution_count": 24,
   "metadata": {},
   "outputs": [
    {
     "data": {
      "text/plain": [
       "array([0.94799999, 0.93899999, 0.95499999, 0.95699999, 0.93499999,\n",
       "       0.95399999, 0.92699999, 0.94699999, 0.94599999, 0.94399999,\n",
       "       0.95299999, 0.89789789])"
      ]
     },
     "execution_count": 24,
     "metadata": {},
     "output_type": "execute_result"
    }
   ],
   "source": [
    "accuracies"
   ]
  },
  {
   "cell_type": "code",
   "execution_count": 25,
   "metadata": {},
   "outputs": [
    {
     "data": {
      "text/plain": [
       "0.9419081514122131"
      ]
     },
     "execution_count": 25,
     "metadata": {},
     "output_type": "execute_result"
    }
   ],
   "source": [
    "accuracy = accuracies.mean()\n",
    "accuracy"
   ]
  },
  {
   "cell_type": "code",
   "execution_count": 26,
   "metadata": {},
   "outputs": [
    {
     "data": {
      "text/plain": [
       "0.0002473245329163551"
      ]
     },
     "execution_count": 26,
     "metadata": {},
     "output_type": "execute_result"
    }
   ],
   "source": [
    "variance = accuracies.var()\n",
    "variance"
   ]
  },
  {
   "cell_type": "markdown",
   "metadata": {},
   "source": [
    "Since our model prediction accuracy is too good to believe ( something fishy!!!! )<br>\n",
    "Let's implement Dropout regularisation to fight any overfitting that exists in the model learning."
   ]
  },
  {
   "cell_type": "markdown",
   "metadata": {},
   "source": [
    "<u>In neural networks, dropoutregularization is the technique that fights overfitting by adding a Dropout layer in your neural network. It has a rate parameter that indicates the number of neurons that will deactivate at each iteration. The process of deactivating nerurons is usually random<u/>"
   ]
  },
  {
   "cell_type": "code",
   "execution_count": 27,
   "metadata": {},
   "outputs": [],
   "source": [
    "from keras.layers import Dropout"
   ]
  },
  {
   "cell_type": "code",
   "execution_count": 28,
   "metadata": {},
   "outputs": [
    {
     "name": "stdout",
     "output_type": "stream",
     "text": [
      "WARNING:tensorflow:From C:\\Users\\Anudeep\\Anaconda3\\lib\\site-packages\\keras\\backend\\tensorflow_backend.py:3445: calling dropout (from tensorflow.python.ops.nn_ops) with keep_prob is deprecated and will be removed in a future version.\n",
      "Instructions for updating:\n",
      "Please use `rate` instead of `keep_prob`. Rate should be set to `rate = 1 - keep_prob`.\n"
     ]
    }
   ],
   "source": [
    "model = Sequential()\n",
    "model.add(Dense(9,kernel_initializer = 'uniform', activation= 'relu', input_dim=18))\n",
    "model.add(Dropout(rate=0.2))\n",
    "model.add(Dense(1, kernel_initializer = 'uniform', activation = 'sigmoid'))\n",
    "model.compile(optimizer = 'adam', loss = 'binary_crossentropy', metrics=['accuracy'])"
   ]
  },
  {
   "cell_type": "code",
   "execution_count": 29,
   "metadata": {
    "scrolled": true
   },
   "outputs": [
    {
     "name": "stdout",
     "output_type": "stream",
     "text": [
      "Epoch 1/10\n",
      "11999/11999 [==============================] - 1s 124us/step - loss: 0.4653 - acc: 0.7996\n",
      "Epoch 2/10\n",
      "11999/11999 [==============================] - 1s 98us/step - loss: 0.2987 - acc: 0.8822\n",
      "Epoch 3/10\n",
      "11999/11999 [==============================] - 1s 101us/step - loss: 0.2526 - acc: 0.9039\n",
      "Epoch 4/10\n",
      "11999/11999 [==============================] - 1s 85us/step - loss: 0.2349 - acc: 0.9133\n",
      "Epoch 5/10\n",
      "11999/11999 [==============================] - 1s 84us/step - loss: 0.2266 - acc: 0.9167\n",
      "Epoch 6/10\n",
      "11999/11999 [==============================] - 1s 88us/step - loss: 0.2159 - acc: 0.9211\n",
      "Epoch 7/10\n",
      "11999/11999 [==============================] - 1s 88us/step - loss: 0.2165 - acc: 0.9211\n",
      "Epoch 8/10\n",
      "11999/11999 [==============================] - 1s 87us/step - loss: 0.2150 - acc: 0.9257\n",
      "Epoch 9/10\n",
      "11999/11999 [==============================] - 1s 85us/step - loss: 0.2103 - acc: 0.9237\n",
      "Epoch 10/10\n",
      "11999/11999 [==============================] - 1s 84us/step - loss: 0.2092 - acc: 0.9292\n"
     ]
    },
    {
     "data": {
      "text/plain": [
       "<keras.callbacks.History at 0x20144139320>"
      ]
     },
     "execution_count": 29,
     "metadata": {},
     "output_type": "execute_result"
    }
   ],
   "source": [
    "model.fit(X_train, y_train, epochs = 10, batch_size= 15) "
   ]
  },
  {
   "cell_type": "code",
   "execution_count": 30,
   "metadata": {},
   "outputs": [],
   "source": [
    "predicted_results = model.predict(X_test)"
   ]
  },
  {
   "cell_type": "markdown",
   "metadata": {},
   "source": [
    "The Below predicted results of probablity of employee leaving the organisations based on each employee details"
   ]
  },
  {
   "cell_type": "code",
   "execution_count": 31,
   "metadata": {},
   "outputs": [],
   "source": [
    "predicted_results\n",
    "predicted_results = predicted_results>0.5 # returns TRUE if more than 0.5 else FALSE and makes it compatible for confusion matrix computation"
   ]
  },
  {
   "cell_type": "code",
   "execution_count": 32,
   "metadata": {},
   "outputs": [
    {
     "name": "stdout",
     "output_type": "stream",
     "text": [
      "[[False]\n",
      " [False]\n",
      " [False]\n",
      " [False]\n",
      " [ True]]\n",
      "[0 0 0 0 1]\n"
     ]
    }
   ],
   "source": [
    "print(predicted_results[0:5])\n",
    "print(y_test[0:5])"
   ]
  },
  {
   "cell_type": "markdown",
   "metadata": {},
   "source": [
    "### Confusion Matrix of our prediction results"
   ]
  },
  {
   "cell_type": "code",
   "execution_count": 33,
   "metadata": {},
   "outputs": [
    {
     "data": {
      "text/plain": [
       "array([[2218,   73],\n",
       "       [  74,  635]], dtype=int64)"
      ]
     },
     "execution_count": 33,
     "metadata": {},
     "output_type": "execute_result"
    }
   ],
   "source": [
    "from sklearn.metrics import confusion_matrix\n",
    "con_matrix = confusion_matrix(y_test,predicted_results)\n",
    "con_matrix"
   ]
  },
  {
   "cell_type": "markdown",
   "metadata": {},
   "source": [
    "### Hyperparameter Tuning"
   ]
  },
  {
   "cell_type": "markdown",
   "metadata": {},
   "source": [
    "Grid search is a technique that you can use to experiment with different model parameters in order to obtain the ones that give you the best accuracy."
   ]
  },
  {
   "cell_type": "code",
   "execution_count": 34,
   "metadata": {},
   "outputs": [],
   "source": [
    "from sklearn.model_selection import GridSearchCV"
   ]
  },
  {
   "cell_type": "code",
   "execution_count": 35,
   "metadata": {},
   "outputs": [],
   "source": [
    "def make_classifier(optimizer):\n",
    "    model = Sequential()\n",
    "    model.add(Dense(9,kernel_initializer = 'uniform', activation= 'relu', input_dim=18))\n",
    "    model.add(Dense(1, kernel_initializer = 'uniform', activation = 'sigmoid'))\n",
    "    model.compile(optimizer = optimizer, loss = 'binary_crossentropy', metrics=['accuracy'])\n",
    "    return model"
   ]
  },
  {
   "cell_type": "code",
   "execution_count": 36,
   "metadata": {},
   "outputs": [],
   "source": [
    "model = KerasClassifier(build_fn = make_classifier)"
   ]
  },
  {
   "cell_type": "markdown",
   "metadata": {},
   "source": [
    "Now Let's define different set of params to see which set of parameters are good in giving the best accuracy"
   ]
  },
  {
   "cell_type": "code",
   "execution_count": 37,
   "metadata": {},
   "outputs": [],
   "source": [
    "params = {'batch_size':[25,35],\n",
    "          'epochs':[4,6],\n",
    "          'optimizer':['adam','rmsprop']\n",
    "          }"
   ]
  },
  {
   "cell_type": "markdown",
   "metadata": {},
   "source": [
    "Now define GridSearchCV function"
   ]
  },
  {
   "cell_type": "code",
   "execution_count": 38,
   "metadata": {},
   "outputs": [],
   "source": [
    "optimization = GridSearchCV(estimator = model, param_grid = params, scoring = 'accuracy', cv=3)"
   ]
  },
  {
   "cell_type": "code",
   "execution_count": 39,
   "metadata": {},
   "outputs": [
    {
     "name": "stdout",
     "output_type": "stream",
     "text": [
      "Epoch 1/4\n",
      "7999/7999 [==============================] - 1s 131us/step - loss: 0.5558 - acc: 0.7551\n",
      "Epoch 2/4\n",
      "7999/7999 [==============================] - 0s 45us/step - loss: 0.3795 - acc: 0.8136\n",
      "Epoch 3/4\n",
      "7999/7999 [==============================] - 0s 55us/step - loss: 0.3219 - acc: 0.8279\n",
      "Epoch 4/4\n",
      "7999/7999 [==============================] - 0s 55us/step - loss: 0.2906 - acc: 0.8327\n",
      "Epoch 1/4\n",
      "7999/7999 [==============================] - 1s 120us/step - loss: 0.5558 - acc: 0.7667\n",
      "Epoch 2/4\n",
      "7999/7999 [==============================] - 0s 44us/step - loss: 0.3594 - acc: 0.8510\n",
      "Epoch 3/4\n",
      "7999/7999 [==============================] - 0s 43us/step - loss: 0.2739 - acc: 0.9025\n",
      "Epoch 4/4\n",
      "7999/7999 [==============================] - 0s 44us/step - loss: 0.2264 - acc: 0.9264\n",
      "Epoch 1/4\n",
      "8000/8000 [==============================] - 1s 113us/step - loss: 0.5506 - acc: 0.7611\n",
      "Epoch 2/4\n",
      "8000/8000 [==============================] - 0s 45us/step - loss: 0.3702 - acc: 0.8034\n",
      "Epoch 3/4\n",
      "8000/8000 [==============================] - 0s 44us/step - loss: 0.3141 - acc: 0.8252\n",
      "Epoch 4/4\n",
      "8000/8000 [==============================] - 0s 43us/step - loss: 0.2819 - acc: 0.8417\n",
      "Epoch 1/4\n",
      "7999/7999 [==============================] - 1s 105us/step - loss: 0.5527 - acc: 0.7597\n",
      "Epoch 2/4\n",
      "7999/7999 [==============================] - 0s 44us/step - loss: 0.4139 - acc: 0.7598\n",
      "Epoch 3/4\n",
      "7999/7999 [==============================] - 0s 42us/step - loss: 0.3748 - acc: 0.7598\n",
      "Epoch 4/4\n",
      "7999/7999 [==============================] - 0s 43us/step - loss: 0.3503 - acc: 0.8020\n",
      "Epoch 1/4\n",
      "7999/7999 [==============================] - 1s 136us/step - loss: 0.5702 - acc: 0.7680\n",
      "Epoch 2/4\n",
      "7999/7999 [==============================] - 0s 51us/step - loss: 0.3846 - acc: 0.8286\n",
      "Epoch 3/4\n",
      "7999/7999 [==============================] - 0s 50us/step - loss: 0.2937 - acc: 0.8861\n",
      "Epoch 4/4\n",
      "7999/7999 [==============================] - 0s 53us/step - loss: 0.2373 - acc: 0.9246\n",
      "Epoch 1/4\n",
      "8000/8000 [==============================] - 1s 138us/step - loss: 0.5680 - acc: 0.7731\n",
      "Epoch 2/4\n",
      "8000/8000 [==============================] - 0s 55us/step - loss: 0.3944 - acc: 0.8022\n",
      "Epoch 3/4\n",
      "8000/8000 [==============================] - 0s 44us/step - loss: 0.3299 - acc: 0.8185\n",
      "Epoch 4/4\n",
      "8000/8000 [==============================] - 0s 43us/step - loss: 0.2898 - acc: 0.8414\n",
      "Epoch 1/6\n",
      "7999/7999 [==============================] - 1s 146us/step - loss: 0.5400 - acc: 0.7597\n",
      "Epoch 2/6\n",
      "7999/7999 [==============================] - 0s 59us/step - loss: 0.4036 - acc: 0.7598\n",
      "Epoch 3/6\n",
      "7999/7999 [==============================] - 0s 54us/step - loss: 0.3645 - acc: 0.7598\n",
      "Epoch 4/6\n",
      "7999/7999 [==============================] - 0s 50us/step - loss: 0.3372 - acc: 0.8355\n",
      "Epoch 5/6\n",
      "7999/7999 [==============================] - 0s 59us/step - loss: 0.3165 - acc: 0.8619\n",
      "Epoch 6/6\n",
      "7999/7999 [==============================] - 0s 54us/step - loss: 0.2995 - acc: 0.8779\n",
      "Epoch 1/6\n",
      "7999/7999 [==============================] - 1s 129us/step - loss: 0.5576 - acc: 0.7648\n",
      "Epoch 2/6\n",
      "7999/7999 [==============================] - 0s 50us/step - loss: 0.3633 - acc: 0.8429\n",
      "Epoch 3/6\n",
      "7999/7999 [==============================] - 0s 53us/step - loss: 0.2764 - acc: 0.8999\n",
      "Epoch 4/6\n",
      "7999/7999 [==============================] - 0s 45us/step - loss: 0.2264 - acc: 0.9266\n",
      "Epoch 5/6\n",
      "7999/7999 [==============================] - 0s 47us/step - loss: 0.1986 - acc: 0.9382\n",
      "Epoch 6/6\n",
      "7999/7999 [==============================] - 0s 46us/step - loss: 0.1832 - acc: 0.9456\n",
      "Epoch 1/6\n",
      "8000/8000 [==============================] - 1s 134us/step - loss: 0.5435 - acc: 0.7701\n",
      "Epoch 2/6\n",
      "8000/8000 [==============================] - ETA: 0s - loss: 0.3737 - acc: 0.804 - 0s 48us/step - loss: 0.3726 - acc: 0.8041\n",
      "Epoch 3/6\n",
      "8000/8000 [==============================] - 0s 47us/step - loss: 0.3161 - acc: 0.8216\n",
      "Epoch 4/6\n",
      "8000/8000 [==============================] - 0s 48us/step - loss: 0.2791 - acc: 0.8419\n",
      "Epoch 5/6\n",
      "8000/8000 [==============================] - 0s 52us/step - loss: 0.2523 - acc: 0.8584\n",
      "Epoch 6/6\n",
      "8000/8000 [==============================] - 0s 49us/step - loss: 0.2331 - acc: 0.9244\n",
      "Epoch 1/6\n",
      "7999/7999 [==============================] - 1s 125us/step - loss: 0.5690 - acc: 0.7600\n",
      "Epoch 2/6\n",
      "7999/7999 [==============================] - 0s 54us/step - loss: 0.3972 - acc: 0.8256\n",
      "Epoch 3/6\n",
      "7999/7999 [==============================] - 0s 47us/step - loss: 0.3162 - acc: 0.8734\n",
      "Epoch 4/6\n",
      "7999/7999 [==============================] - 0s 50us/step - loss: 0.2628 - acc: 0.9085\n",
      "Epoch 5/6\n",
      "7999/7999 [==============================] - 0s 48us/step - loss: 0.2262 - acc: 0.9260\n",
      "Epoch 6/6\n",
      "7999/7999 [==============================] - 0s 47us/step - loss: 0.2047 - acc: 0.9351\n",
      "Epoch 1/6\n",
      "7999/7999 [==============================] - 1s 130us/step - loss: 0.5657 - acc: 0.7630\n",
      "Epoch 2/6\n",
      "7999/7999 [==============================] - 0s 50us/step - loss: 0.4043 - acc: 0.8004\n",
      "Epoch 3/6\n",
      "7999/7999 [==============================] - 0s 53us/step - loss: 0.3390 - acc: 0.8205\n",
      "Epoch 4/6\n",
      "7999/7999 [==============================] - 1s 64us/step - loss: 0.2935 - acc: 0.8405\n",
      "Epoch 5/6\n",
      "7999/7999 [==============================] - 1s 65us/step - loss: 0.2623 - acc: 0.8567\n",
      "Epoch 6/6\n",
      "7999/7999 [==============================] - 0s 55us/step - loss: 0.2396 - acc: 0.9124\n",
      "Epoch 1/6\n",
      "8000/8000 [==============================] - 1s 145us/step - loss: 0.5746 - acc: 0.7727\n",
      "Epoch 2/6\n",
      "8000/8000 [==============================] - 0s 52us/step - loss: 0.3972 - acc: 0.8035\n",
      "Epoch 3/6\n",
      "8000/8000 [==============================] - 0s 54us/step - loss: 0.3304 - acc: 0.8201\n",
      "Epoch 4/6\n",
      "8000/8000 [==============================] - 0s 53us/step - loss: 0.2918 - acc: 0.8406\n",
      "Epoch 5/6\n",
      "8000/8000 [==============================] - 0s 53us/step - loss: 0.2644 - acc: 0.8497\n",
      "Epoch 6/6\n",
      "8000/8000 [==============================] - 0s 53us/step - loss: 0.2443 - acc: 0.8539\n",
      "Epoch 1/4\n",
      "7999/7999 [==============================] - 1s 136us/step - loss: 0.6075 - acc: 0.7572\n",
      "Epoch 2/4\n",
      "7999/7999 [==============================] - 0s 38us/step - loss: 0.4070 - acc: 0.8311\n",
      "Epoch 3/4\n",
      "7999/7999 [==============================] - 0s 37us/step - loss: 0.3162 - acc: 0.8796\n",
      "Epoch 4/4\n",
      "7999/7999 [==============================] - 0s 42us/step - loss: 0.2688 - acc: 0.9104\n",
      "Epoch 1/4\n",
      "7999/7999 [==============================] - 1s 153us/step - loss: 0.5979 - acc: 0.7567\n",
      "Epoch 2/4\n",
      "7999/7999 [==============================] - 0s 41us/step - loss: 0.4034 - acc: 0.8090\n",
      "Epoch 3/4\n",
      "7999/7999 [==============================] - 0s 38us/step - loss: 0.3284 - acc: 0.8267\n",
      "Epoch 4/4\n",
      "7999/7999 [==============================] - 0s 39us/step - loss: 0.2866 - acc: 0.8467\n",
      "Epoch 1/4\n",
      "8000/8000 [==============================] - 1s 145us/step - loss: 0.5840 - acc: 0.7586\n",
      "Epoch 2/4\n",
      "8000/8000 [==============================] - 0s 39us/step - loss: 0.4170 - acc: 0.7825\n",
      "Epoch 3/4\n",
      "8000/8000 [==============================] - 0s 37us/step - loss: 0.3653 - acc: 0.8368\n",
      "Epoch 4/4\n",
      "8000/8000 [==============================] - 0s 39us/step - loss: 0.3303 - acc: 0.8543\n",
      "Epoch 1/4\n",
      "7999/7999 [==============================] - 1s 141us/step - loss: 0.6029 - acc: 0.7568\n",
      "Epoch 2/4\n",
      "7999/7999 [==============================] - 0s 47us/step - loss: 0.4334 - acc: 0.7883\n",
      "Epoch 3/4\n",
      "7999/7999 [==============================] - 0s 49us/step - loss: 0.3491 - acc: 0.8567\n",
      "Epoch 4/4\n",
      "7999/7999 [==============================] - 0s 45us/step - loss: 0.2898 - acc: 0.8965\n",
      "Epoch 1/4\n",
      "7999/7999 [==============================] - 1s 143us/step - loss: 0.5965 - acc: 0.7636\n",
      "Epoch 2/4\n",
      "7999/7999 [==============================] - 0s 39us/step - loss: 0.4297 - acc: 0.7862\n",
      "Epoch 3/4\n",
      "7999/7999 [==============================] - 0s 38us/step - loss: 0.3551 - acc: 0.8471\n",
      "Epoch 4/4\n",
      "7999/7999 [==============================] - 0s 38us/step - loss: 0.3014 - acc: 0.8861\n",
      "Epoch 1/4\n",
      "8000/8000 [==============================] - 1s 145us/step - loss: 0.6095 - acc: 0.7670\n",
      "Epoch 2/4\n",
      "8000/8000 [==============================] - 0s 40us/step - loss: 0.4348 - acc: 0.8029\n",
      "Epoch 3/4\n",
      "8000/8000 [==============================] - 0s 37us/step - loss: 0.3388 - acc: 0.8538\n",
      "Epoch 4/4\n",
      "8000/8000 [==============================] - 0s 36us/step - loss: 0.2808 - acc: 0.9008\n",
      "Epoch 1/6\n",
      "7999/7999 [==============================] - 1s 161us/step - loss: 0.6197 - acc: 0.7500\n",
      "Epoch 2/6\n",
      "7999/7999 [==============================] - 0s 40us/step - loss: 0.4136 - acc: 0.8487\n",
      "Epoch 3/6\n",
      "7999/7999 [==============================] - 0s 37us/step - loss: 0.3118 - acc: 0.8884\n",
      "Epoch 4/6\n",
      "7999/7999 [==============================] - 0s 38us/step - loss: 0.2643 - acc: 0.9101\n",
      "Epoch 5/6\n",
      "7999/7999 [==============================] - 0s 46us/step - loss: 0.2351 - acc: 0.9255\n",
      "Epoch 6/6\n",
      "7999/7999 [==============================] - 0s 48us/step - loss: 0.2165 - acc: 0.9331\n",
      "Epoch 1/6\n",
      "7999/7999 [==============================] - 1s 159us/step - loss: 0.5989 - acc: 0.7730\n",
      "Epoch 2/6\n",
      "7999/7999 [==============================] - 0s 36us/step - loss: 0.3992 - acc: 0.8326\n",
      "Epoch 3/6\n",
      "7999/7999 [==============================] - 0s 41us/step - loss: 0.3012 - acc: 0.8859\n",
      "Epoch 4/6\n",
      "7999/7999 [==============================] - 0s 37us/step - loss: 0.2480 - acc: 0.9192\n",
      "Epoch 5/6\n",
      "7999/7999 [==============================] - 0s 38us/step - loss: 0.2169 - acc: 0.9335\n",
      "Epoch 6/6\n",
      "7999/7999 [==============================] - 0s 36us/step - loss: 0.1981 - acc: 0.9392\n",
      "Epoch 1/6\n",
      "8000/8000 [==============================] - 1s 182us/step - loss: 0.5941 - acc: 0.7608\n",
      "Epoch 2/6\n",
      "8000/8000 [==============================] - 0s 49us/step - loss: 0.4048 - acc: 0.8033\n",
      "Epoch 3/6\n",
      "8000/8000 [==============================] - 0s 40us/step - loss: 0.3275 - acc: 0.8231\n",
      "Epoch 4/6\n",
      "8000/8000 [==============================] - 0s 42us/step - loss: 0.2880 - acc: 0.8421\n",
      "Epoch 5/6\n",
      "8000/8000 [==============================] - 0s 47us/step - loss: 0.2631 - acc: 0.8501\n",
      "Epoch 6/6\n",
      "8000/8000 [==============================] - 0s 38us/step - loss: 0.2457 - acc: 0.8546\n",
      "Epoch 1/6\n",
      "7999/7999 [==============================] - 1s 156us/step - loss: 0.6063 - acc: 0.7576\n",
      "Epoch 2/6\n",
      "7999/7999 [==============================] - 0s 38us/step - loss: 0.4461 - acc: 0.7857\n",
      "Epoch 3/6\n",
      "7999/7999 [==============================] - 0s 37us/step - loss: 0.3746 - acc: 0.8272\n",
      "Epoch 4/6\n",
      "7999/7999 [==============================] - 0s 38us/step - loss: 0.3191 - acc: 0.8712\n",
      "Epoch 5/6\n",
      "7999/7999 [==============================] - 0s 37us/step - loss: 0.2721 - acc: 0.9092\n",
      "Epoch 6/6\n",
      "7999/7999 [==============================] - 0s 37us/step - loss: 0.2383 - acc: 0.9247\n",
      "Epoch 1/6\n",
      "7999/7999 [==============================] - 1s 163us/step - loss: 0.5977 - acc: 0.7607\n",
      "Epoch 2/6\n",
      "7999/7999 [==============================] - 0s 38us/step - loss: 0.4284 - acc: 0.7897\n",
      "Epoch 3/6\n",
      "7999/7999 [==============================] - 0s 38us/step - loss: 0.3627 - acc: 0.8107\n",
      "Epoch 4/6\n",
      "7999/7999 [==============================] - 0s 40us/step - loss: 0.3211 - acc: 0.8250\n",
      "Epoch 5/6\n",
      "7999/7999 [==============================] - 0s 38us/step - loss: 0.2904 - acc: 0.8425\n",
      "Epoch 6/6\n",
      "7999/7999 [==============================] - 0s 38us/step - loss: 0.2670 - acc: 0.8531\n",
      "Epoch 1/6\n",
      "8000/8000 [==============================] - 1s 164us/step - loss: 0.6011 - acc: 0.7705\n",
      "Epoch 2/6\n",
      "8000/8000 [==============================] - 0s 39us/step - loss: 0.4336 - acc: 0.8025\n",
      "Epoch 3/6\n",
      "8000/8000 [==============================] - 0s 38us/step - loss: 0.3590 - acc: 0.8073\n",
      "Epoch 4/6\n",
      "8000/8000 [==============================] - 0s 38us/step - loss: 0.3179 - acc: 0.8244\n",
      "Epoch 5/6\n",
      "8000/8000 [==============================] - 0s 41us/step - loss: 0.2877 - acc: 0.8404\n",
      "Epoch 6/6\n",
      "8000/8000 [==============================] - 0s 39us/step - loss: 0.2637 - acc: 0.8501\n",
      "Epoch 1/6\n",
      "11999/11999 [==============================] - 2s 164us/step - loss: 0.5046 - acc: 0.7735\n",
      "Epoch 2/6\n",
      "11999/11999 [==============================] - 1s 65us/step - loss: 0.3390 - acc: 0.8133\n",
      "Epoch 3/6\n",
      "11999/11999 [==============================] - 1s 63us/step - loss: 0.2755 - acc: 0.8454\n",
      "Epoch 4/6\n",
      "11999/11999 [==============================] - 1s 66us/step - loss: 0.2419 - acc: 0.8973\n",
      "Epoch 5/6\n",
      "11999/11999 [==============================] - 1s 56us/step - loss: 0.2216 - acc: 0.9392\n",
      "Epoch 6/6\n",
      "11999/11999 [==============================] - 1s 54us/step - loss: 0.2073 - acc: 0.9489\n"
     ]
    }
   ],
   "source": [
    "optimization_model = optimization.fit(X_train, y_train)"
   ]
  },
  {
   "cell_type": "markdown",
   "metadata": {},
   "source": [
    "Now that, we are done with running the model, Let's see which set of parameters are the best choice of params whcih gives best accuracy"
   ]
  },
  {
   "cell_type": "code",
   "execution_count": 41,
   "metadata": {},
   "outputs": [
    {
     "name": "stdout",
     "output_type": "stream",
     "text": [
      "Best_Params: {'batch_size': 25, 'epochs': 6, 'optimizer': 'adam'}\n",
      "Best_Score: 0.92699391615968\n"
     ]
    }
   ],
   "source": [
    "Best_Params = optimization_model.best_params_\n",
    "Best_Score = optimization_model.best_score_\n",
    "print(\"Best_Params:\", Best_Params)\n",
    "print(\"Best_Score:\", Best_Score)"
   ]
  }
 ],
 "metadata": {
  "kernelspec": {
   "display_name": "Python 3",
   "language": "python",
   "name": "python3"
  },
  "language_info": {
   "codemirror_mode": {
    "name": "ipython",
    "version": 3
   },
   "file_extension": ".py",
   "mimetype": "text/x-python",
   "name": "python",
   "nbconvert_exporter": "python",
   "pygments_lexer": "ipython3",
   "version": "3.7.1"
  }
 },
 "nbformat": 4,
 "nbformat_minor": 2
}
